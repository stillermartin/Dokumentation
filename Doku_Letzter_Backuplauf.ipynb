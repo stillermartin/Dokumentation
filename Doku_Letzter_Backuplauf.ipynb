{
    "metadata": {
        "kernelspec": {
            "name": "SQL",
            "display_name": "SQL",
            "language": "sql"
        },
        "language_info": {
            "name": "sql",
            "version": ""
        }
    },
    "nbformat_minor": 2,
    "nbformat": 4,
    "cells": [
        {
            "cell_type": "markdown",
            "source": [
                "## **Letzter Datenbank Backuplauf für Full / Transaktion**"
            ],
            "metadata": {
                "azdata_cell_guid": "725ba94c-d37a-4d1e-b8c5-b6c4ea871419"
            },
            "attachments": {}
        },
        {
            "cell_type": "code",
            "source": [
                "SELECT \r\n",
                "    msdb.dbo.backupset.database_name\r\n",
                "    , msdb.dbo.backupset.type\r\n",
                "\t, MAX(msdb.dbo.backupset.backup_finish_date) AS last_db_backup_date\r\n",
                "FROM msdb.dbo.backupset\r\n",
                "GROUP BY database_name, type\r\n",
                "ORDER BY database_name, type"
            ],
            "metadata": {
                "azdata_cell_guid": "59408d51-c82b-4b10-8f26-8419d62705cb"
            },
            "outputs": [],
            "execution_count": null
        }
    ]
}