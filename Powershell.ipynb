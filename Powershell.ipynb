{
    "metadata": {
        "kernelspec": {
            "name": "powershell",
            "display_name": "PowerShell",
            "language": "powershell"
        },
        "language_info": {
            "name": "powershell",
            "codemirror_mode": "shell",
            "mimetype": "text/x-sh",
            "file_extension": ".ps1"
        }
    },
    "nbformat_minor": 2,
    "nbformat": 4,
    "cells": [
        {
            "cell_type": "markdown",
            "source": [
                "## **Erzwingen des TLS 1.2 Protokolls**"
            ],
            "metadata": {
                "azdata_cell_guid": "cfa93299-525a-4431-ab3a-2d185e870919"
            },
            "attachments": {}
        },
        {
            "cell_type": "code",
            "source": [
                "[Net.ServicePointManager]::SecurityProtocol = [Net.SecurityProtocolType]::Tls12"
            ],
            "metadata": {
                "azdata_cell_guid": "11b30f47-8c99-4749-b2ee-380b3d2579e3"
            },
            "outputs": [
                {
                    "name": "stdout",
                    "text": "",
                    "output_type": "stream"
                }
            ],
            "execution_count": 5
        },
        {
            "cell_type": "markdown",
            "source": [
                "  \n",
                "\n",
                "## **Die eigene IP ermitteln**"
            ],
            "metadata": {
                "azdata_cell_guid": "d3ef9366-aaa7-4495-b60b-e3519b558c0d"
            },
            "attachments": {}
        },
        {
            "cell_type": "code",
            "source": [
                "(Invoke-WebRequest -Uri \"https://ipinfo.io/ip\").Content"
            ],
            "metadata": {
                "azdata_cell_guid": "72a7ab81-78f0-4d0b-a78b-c9a46148c290"
            },
            "outputs": [
                {
                    "name": "stdout",
                    "text": "185.251.178.250\n",
                    "output_type": "stream"
                }
            ],
            "execution_count": 3
        },
        {
            "cell_type": "code",
            "source": [
                "Connect-AzAccount"
            ],
            "metadata": {
                "azdata_cell_guid": "fbeab6a7-d093-45f8-b5b3-887e7c5201e5"
            },
            "outputs": [
                {
                    "name": "stdout",
                    "text": "Connect-AzAccount : Der Befehl \"Connect-AzAccount\" wurde im Modul \"Az.Accounts\" gefunden, das Modul konnte aber nicht \ngeladen werden. Wenn Sie weitere Informationen w■nschen, f■hren Sie \"Import-Module Az.Accounts\" aus.\nIn Zeile:2 Zeichen:1\n+ Connect-AzAccount\n+ ~~~~~~~~~~~~~~~~~\n    + CategoryInfo          : ObjectNotFound: (Connect-AzAccount:String) [], CommandNotFoundException\n    + FullyQualifiedErrorId : CouldNotAutoloadMatchingModule\n \n",
                    "output_type": "stream"
                }
            ],
            "execution_count": 6
        }
    ]
}