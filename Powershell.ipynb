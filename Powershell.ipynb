{
    "metadata": {
        "kernelspec": {
            "name": "SQL",
            "display_name": "SQL",
            "language": "sql"
        },
        "language_info": {
            "name": "sql",
            "version": ""
        }
    },
    "nbformat_minor": 2,
    "nbformat": 4,
    "cells": [
        {
            "cell_type": "markdown",
            "source": [
                "Erzwingen des TLS 1.2 Protokolls"
            ],
            "metadata": {
                "azdata_cell_guid": "cfa93299-525a-4431-ab3a-2d185e870919"
            }
        },
        {
            "cell_type": "code",
            "source": [
                "[Net.ServicePointManager]::SecurityProtocol = [Net.SecurityProtocolType]::Tls12"
            ],
            "metadata": {
                "azdata_cell_guid": "11b30f47-8c99-4749-b2ee-380b3d2579e3"
            },
            "outputs": [],
            "execution_count": null
        }
    ]
}