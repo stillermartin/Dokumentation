{
    "metadata": {
        "kernelspec": {
            "name": "SQL",
            "display_name": "SQL",
            "language": "sql"
        },
        "language_info": {
            "name": "sql",
            "version": ""
        }
    },
    "nbformat_minor": 2,
    "nbformat": 4,
    "cells": [
        {
            "cell_type": "markdown",
            "source": [
                "# **Datenbankverschlüsselung (TLS)**"
            ],
            "metadata": {
                "azdata_cell_guid": "916caee1-44da-41c8-8238-c74c1eaae6cc"
            }
        }
    ]
}