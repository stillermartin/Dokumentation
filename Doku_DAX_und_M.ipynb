{
    "metadata": {
        "kernelspec": {
            "name": "SQL",
            "display_name": "SQL",
            "language": "sql"
        },
        "language_info": {
            "name": "sql",
            "version": ""
        }
    },
    "nbformat_minor": 2,
    "nbformat": 4,
    "cells": [
        {
            "cell_type": "markdown",
            "source": [
                "# **Power Query**\n",
                "\n",
                "**Hier werden einige Skripts gezeigt, die man für die spätere Formatierung und Gruppierung benötigt.**\n",
                "\n",
                "**1\\. Kalender - Quarter - Name**"
            ],
            "metadata": {
                "azdata_cell_guid": "cf379555-143b-48ed-8b56-85efbe1dd5b7"
            }
        },
        {
            "cell_type": "code",
            "source": [
                "CalendarQuarterName = \r\n",
                "    \"Q \" & Number.ToText(<Quarter>) & \"/\" & Number.ToText(<KalenderJahr>) "
            ],
            "metadata": {
                "azdata_cell_guid": "dd79f42a-9626-446d-84b7-12f768011606"
            },
            "outputs": [],
            "execution_count": null
        },
        {
            "cell_type": "markdown",
            "source": [
                "### **2\\. Kalender - Quarter - Nummber**"
            ],
            "metadata": {
                "azdata_cell_guid": "1997fc5d-446a-4a94-a88a-9e39b46ef550"
            }
        },
        {
            "cell_type": "code",
            "source": [
                "CalendarQuarterNumber = \r\n",
                "    Number.FromText(Number.ToText(<KalenderJahr>) &  Number.ToText(<Quarter>)"
            ],
            "metadata": {
                "azdata_cell_guid": "f8e2dcdc-bf8f-47c2-8b8c-7d7b4f0baad7"
            },
            "outputs": [],
            "execution_count": null
        },
        {
            "cell_type": "markdown",
            "source": [
                "**3\\. Kalender - Monats - Name**"
            ],
            "metadata": {
                "azdata_cell_guid": "1741e9b2-ccd3-4ef4-9ab8-14f43c667c3d"
            }
        },
        {
            "cell_type": "code",
            "source": [
                "CalendarMonthName = \r\n",
                "    Text.Start(<MonthName>,3) & \" \" & Number.ToText(<KalenderJahr>)"
            ],
            "metadata": {
                "azdata_cell_guid": "9a16e267-c1b4-4e48-a710-5079cb40433f"
            },
            "outputs": [],
            "execution_count": null
        },
        {
            "cell_type": "markdown",
            "source": [
                "**4\\. Kalender - MOnats -Number**"
            ],
            "metadata": {
                "azdata_cell_guid": "48944b87-b4ed-4308-8b33-329915b1cb59"
            }
        },
        {
            "cell_type": "code",
            "source": [
                "CalendarMonthNumber =\r\n",
                "    Number.FromText(Number.ToText(<KalenderJahr>) &\r\n",
                "    Text.End(\"0\" & Number.ToText(<Monatsnummer>,2))"
            ],
            "metadata": {
                "azdata_cell_guid": "b4174c37-6e26-4b13-9e44-ab18cbcf99e5"
            },
            "outputs": [],
            "execution_count": null
        }
    ]
}