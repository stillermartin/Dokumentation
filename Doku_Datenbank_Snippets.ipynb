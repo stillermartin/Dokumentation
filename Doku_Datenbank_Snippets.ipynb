{
    "metadata": {
        "kernelspec": {
            "name": "SQL",
            "display_name": "SQL",
            "language": "sql"
        },
        "language_info": {
            "name": "sql",
            "version": ""
        }
    },
    "nbformat_minor": 2,
    "nbformat": 4,
    "cells": [
        {
            "cell_type": "markdown",
            "source": [
                "## **Anlegen einer \"copy only\" Datensicherung:**"
            ],
            "metadata": {
                "azdata_cell_guid": "eb6a7724-e6b0-48db-bc52-2b71673b84c2",
                "language": ""
            }
        },
        {
            "cell_type": "code",
            "source": [
                "/* \r\n",
                "  Sicherung der TESTDB als \"Copy Only\" Sicherung\r\n",
                "*/\r\n",
                "BACKUP DATABASE [TESTDB] \r\n",
                "TO  DISK = \r\n",
                "N'C:\\[BackupPfad]\\TestDB.bak' \r\n",
                "WITH  COPY_ONLY, NOFORMAT, NOINIT,  NAME = N'TESTDB-Vollständig Datenbank Sichern', SKIP, NOREWIND, NOUNLOAD,  STATS = 10\r\n",
                "GO"
            ],
            "metadata": {
                "azdata_cell_guid": "4a377168-174c-4b30-b59d-e593616c76ec"
            },
            "outputs": [],
            "execution_count": null
        },
        {
            "cell_type": "markdown",
            "source": [
                "## \n",
                "## **Wiederherstellen einer \"copy only\" Datensicherung:**"
            ],
            "metadata": {
                "azdata_cell_guid": "068737b0-67be-4dbb-99fd-410858eb1cea",
                "language": ""
            },
            "attachments": {}
        },
        {
            "cell_type": "code",
            "source": [
                "RESTORE VERIFYONLY\r\n",
                "FROM DISK = N'C:\\[BackupPfad]\\TestDB.bak'\r\n",
                "GO"
            ],
            "metadata": {
                "azdata_cell_guid": "72842e00-0eaa-42c6-9dd5-21de94021aac"
            },
            "outputs": [],
            "execution_count": null
        },
        {
            "cell_type": "markdown",
            "source": [
                "## \n",
                "## **Anlegen einer \"Snapshot\" Datenbank**"
            ],
            "metadata": {
                "azdata_cell_guid": "4862f21d-33ea-4fc8-bb8a-dd188e946c36",
                "language": ""
            },
            "attachments": {}
        },
        {
            "cell_type": "code",
            "source": [
                "CREATE DATABASE WaWi_ss ON \r\n",
                "(NAME = WaWi,\r\n",
                "FILENAME = N'C:\\[BackupPfad]\\WaWi.ss') \r\n",
                "AS SNAPSHOT OF [WaWi]\r\n",
                "GO"
            ],
            "metadata": {
                "azdata_cell_guid": "7f535b3f-50ff-438b-8f35-a23233a67881"
            },
            "outputs": [],
            "execution_count": null
        },
        {
            "cell_type": "markdown",
            "source": [
                "![](attachment:image.png)"
            ],
            "metadata": {
                "azdata_cell_guid": "f976a1c6-a520-46dc-8a1e-2a0a21ea0d47"
            },
            "attachments": {
                "image.png": {
                    "image/png": "[encoded data removed]"
                }
            }
        },
        {
            "cell_type": "markdown",
            "source": [
                "## \n",
                "## **Wiederherstellen einer \"Snapshot\" Datenbank:**"
            ],
            "metadata": {
                "azdata_cell_guid": "1ac351bc-a34b-493a-95fb-526de1569d3a",
                "language": ""
            },
            "attachments": {}
        },
        {
            "cell_type": "code",
            "source": [
                "USE master\r\n",
                "RESTORE DATABASE [WaWi] \r\n",
                "FROM DATABASE_SNAPSHOT = 'WaWi_ss'\r\n",
                "\r\n",
                "GO"
            ],
            "metadata": {
                "azdata_cell_guid": "d5432daa-2408-4b2b-97a2-9d9ec41adfad"
            },
            "outputs": [],
            "execution_count": null
        },
        {
            "cell_type": "markdown",
            "source": [
                "## **Aufruf eines Ausführungsplans**"
            ],
            "metadata": {
                "azdata_cell_guid": "487ee3a0-2c03-4ecb-8f74-75adab3a39ef"
            },
            "attachments": {}
        },
        {
            "cell_type": "code",
            "source": [
                "SELECT \r\n",
                "a.sql_handle\r\n",
                ", a.plan_generation_num\r\n",
                ", a.plan_handle\r\n",
                ", a.execution_count\r\n",
                ", a.query_hash\r\n",
                ", a.query_plan_hash\r\n",
                ", b.text\r\n",
                ", c.query_plan\r\n",
                "FROM sys.dm_exec_query_stats a\r\n",
                "CROSS APPLY sys.dm_exec_sql_text(sql_handle) b\r\n",
                "CROSS APPLY sys.dm_exec_query_plan(plan_handle) c"
            ],
            "metadata": {
                "azdata_cell_guid": "4188cad3-1690-4664-bc08-1007ac393bac"
            },
            "outputs": [],
            "execution_count": null
        }
    ]
}